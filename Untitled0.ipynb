{
  "nbformat": 4,
  "nbformat_minor": 0,
  "metadata": {
    "colab": {
      "provenance": [],
      "authorship_tag": "ABX9TyPr3YCj3X36oMHnhl7/M417",
      "include_colab_link": true
    },
    "kernelspec": {
      "name": "python3",
      "display_name": "Python 3"
    },
    "language_info": {
      "name": "python"
    }
  },
  "cells": [
    {
      "cell_type": "markdown",
      "metadata": {
        "id": "view-in-github",
        "colab_type": "text"
      },
      "source": [
        "<a href=\"https://colab.research.google.com/github/bacha67/ML/blob/master/Untitled0.ipynb\" target=\"_parent\"><img src=\"https://colab.research.google.com/assets/colab-badge.svg\" alt=\"Open In Colab\"/></a>"
      ]
    },
    {
      "cell_type": "code",
      "execution_count": 5,
      "metadata": {
        "colab": {
          "base_uri": "https://localhost:8080/"
        },
        "id": "G64ouZktdh8n",
        "outputId": "bbf224dd-cbbf-4c54-b356-0396d4a2ce2d"
      },
      "outputs": [
        {
          "output_type": "stream",
          "name": "stdout",
          "text": [
            "You are locked in a room. Solve the puzzles to escape.\n",
            "Clue 1: What has keys but can't open locks?\n",
            "Your answer: echo\n",
            "wrong answer. you are. stuck\n",
            "Clue 2: I speak without a mouth abd hear without ears. What am I?\n",
            "Your answer: echo\n",
            "correct you fonud the key to the door\n",
            "conguratulation you asceped the room\n"
          ]
        }
      ],
      "source": [
        "def escape_room():\n",
        "    print(\"You are locked in a room. Solve the puzzles to escape.\")\n",
        "    print(\"Clue 1: What has keys but can't open locks?\")\n",
        "    answer1 = input(\"Your answer: \").lower()\n",
        "\n",
        "    if answer1 == \"piano\" or answer1 == \"keyboard\":\n",
        "        print(\"Correct! You found a clue under the piano.\")\n",
        "    else:\n",
        "        print(\"wrong answer. you are. stuck\")\n",
        "\n",
        "\n",
        "    print(\"Clue 2: I speak without a mouth abd hear without ears. What am I?\")\n",
        "\n",
        "    answer2 = input(\"Your answer: \").lower()\n",
        "\n",
        "    if answer2 == \"echo\":\n",
        "        print(\"correct you fonud the key to the door\")\n",
        "        print(\"conguratulation you asceped the room\")\n",
        "    else:\n",
        "        print(\"wrong ansewr. you are still locked \")\n",
        "\n",
        "\n",
        "escape_room()\n"
      ]
    },
    {
      "cell_type": "code",
      "source": [
        "!ls"
      ],
      "metadata": {
        "colab": {
          "base_uri": "https://localhost:8080/"
        },
        "id": "hId4tpjNnJR6",
        "outputId": "9c51ffd6-a9df-4650-f6b8-a948902b67df"
      },
      "execution_count": 6,
      "outputs": [
        {
          "output_type": "stream",
          "name": "stdout",
          "text": [
            "sample_data\n"
          ]
        }
      ]
    }
  ]
}