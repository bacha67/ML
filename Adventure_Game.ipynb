{
  "nbformat": 4,
  "nbformat_minor": 0,
  "metadata": {
    "colab": {
      "provenance": [],
      "authorship_tag": "ABX9TyP7Q1cHcWC0YiJeGOijcvXM",
      "include_colab_link": true
    },
    "kernelspec": {
      "name": "python3",
      "display_name": "Python 3"
    },
    "language_info": {
      "name": "python"
    }
  },
  "cells": [
    {
      "cell_type": "markdown",
      "metadata": {
        "id": "view-in-github",
        "colab_type": "text"
      },
      "source": [
        "<a href=\"https://colab.research.google.com/github/bacha67/ML/blob/master/Adventure_Game.ipynb\" target=\"_parent\"><img src=\"https://colab.research.google.com/assets/colab-badge.svg\" alt=\"Open In Colab\"/></a>"
      ]
    },
    {
      "cell_type": "code",
      "execution_count": null,
      "metadata": {
        "colab": {
          "base_uri": "https://localhost:8080/"
        },
        "id": "YcAB-11vowmC",
        "outputId": "49b4fe8e-b9bb-4e3c-e38b-015eafc03c98"
      },
      "outputs": [
        {
          "output_type": "stream",
          "name": "stdout",
          "text": [
            "You are in a field with a house and a cave.\n",
            "You have a small dagger in your hand.\n",
            "Will you go to the house or the cave?\n",
            "Type 'house' or 'cave': cave\n",
            "You enter the cave and find a magical sword!\n",
            "You now have a powerful weapon to fight the dragon.\n"
          ]
        }
      ],
      "source": [
        "def intro():\n",
        "    print(\"You are in a field with a house and a cave.\")\n",
        "    print(\"You have a small dagger in your hand.\")\n",
        "    print(\"Will you go to the house or the cave?\")\n",
        "\n",
        "def house(has_sword):\n",
        "    print(\"You knock on the door of the house.\")\n",
        "    print(\"A dragon appears!\")\n",
        "    if has_sword:\n",
        "        print(\"You use the magical sword to defeat the dragon. You win!\")\n",
        "    else:\n",
        "        print(\"With only a dagger, the dragon defeats you. Game over!\")\n",
        "        play_again()\n",
        "    return has_sword  # Return the current sword status to maintain continuity.\n",
        "\n",
        "def cave():\n",
        "    print(\"You enter the cave and find a magical sword!\")\n",
        "    print(\"You now have a powerful weapon to fight the dragon.\")\n",
        "    return True  # Indicate that the player now has the sword.\n",
        "\n",
        "def play_game():\n",
        "    intro()\n",
        "    has_sword = False  # Initialize sword status.\n",
        "\n",
        "    while True:\n",
        "        choice = input(\"Type 'house' or 'cave': \").lower()\n",
        "        if choice == 'house':\n",
        "            has_sword = house(has_sword)  # Pass the sword status to the house function.\n",
        "        elif choice == 'cave':\n",
        "            has_sword = cave()  # Update sword status when visiting the cave.\n",
        "        else:\n",
        "            print(\"Invalid choice. Please type 'house' or 'cave'.\")\n",
        "\n",
        "def play_again():\n",
        "    choice = input(\"Do you want to play again? (yes/no): \").lower()\n",
        "    if choice == 'yes':\n",
        "        play_game()\n",
        "    else:\n",
        "        print(\"Thanks for playing! Goodbye.\")\n",
        "\n",
        "# Start the game\n",
        "play_game()\n"
      ]
    }
  ]
}